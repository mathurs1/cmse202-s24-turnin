{
 "cells": [
  {
   "cell_type": "markdown",
   "metadata": {},
   "source": [
    "# Homework Assignment 2\n",
    "## Agent Based Modeling (ABM), Graph Theory, and Linear Regression"
   ]
  },
  {
   "cell_type": "markdown",
   "metadata": {},
   "source": [
    "### <p style=\"text-align: right;\"> &#9989; Sanskaar Mathur.</p>\n",
    "### <p style=\"text-align: right;\"> &#9989; Mathurs1</p>"
   ]
  },
  {
   "cell_type": "markdown",
   "metadata": {},
   "source": [
    "\n",
    "### Goals for this homework assignment\n",
    "By the end of this assignment, you should be able to:\n",
    "* Understand and implement agent objects.\n",
    "* Run and modify agent based models.\n",
    "* Read and understand someone else's code and be able to use it.\n",
    "* Use your Pandas/Networkx skills to form a graph from data, visualize it, and answer questions about the data.\n",
    "* Read documentation to understand and use Networkx methods that you may not be familiar with\n",
    "\n",
    "Work through the following assignment, making sure to follow all of the directions and answer all of the questions.\n",
    "\n",
    "There are **80 points** possible on this assignment. Point values for each part are included in the section headers and question prompts.\n",
    "\n",
    "**This assignment is due on Friday, March 15th at 11:59pm ET.** It should be uploaded into the \"Homework Assignments\" submission folder for Homework #2.  Submission instructions can be found at the end of the notebook.\n",
    "\n",
    "\n",
    "### Please read the updated Generative AI policy for this course https://msu-cmse-courses.github.io/cmse202-S24-jb/course_materials/CMSE202_GenerativeAI_Policy.html\n",
    "\n",
    "### In particular, you should not rely solely on AI tools to complete questions in this assignment. Simply copying questions from the assignments into generative AIs and pasting the answers back into the assignments with non-essential modifications are NOT acceptable and may be considered plagiarism."
   ]
  },
  {
   "cell_type": "markdown",
   "metadata": {},
   "source": [
    "---\n",
    "## Part 1: Add to your Git repository to track your progress on your assignment (8 points)\n",
    "\n",
    "For this assignment, you're going to add it to the `cmse202-s24-turnin` repository you created in class so that you can track your progress on the assignment and preserve the final version that you turn in. In order to do this you need to\n",
    "\n",
    "**&#9989; Do the following**:\n",
    "\n",
    "1. Navigate to your `cmse202-s24-turnin` repository and create a new directory called `hw-02`.\n",
    "2. Move this notebook into that **new directory** in your repository, then **add it and commit it to your repository**.\n",
    "3. Finally, to test that everything is working, \"git push\" the file so that it ends up in your GitHub repository.\n",
    "\n",
    "**Important**: Double check you've added your Professor and your TA as collaborators to your \"turnin\" repository (you should have done this in the previous homework assignment).\n",
    "\n",
    "**Also important**: Make sure that the version of this notebook that you are working on is the same one that you just added to your repository! If you are working on a different copy of the notebook, **none of your changes will be tracked**!\n",
    "\n",
    "If everything went as intended, the file should now show up on your GitHub account in the \"`cmse202-s24-turnin`\" repository inside the `hw-02` directory that you just created.  Periodically, **you'll be asked to commit your changes to the repository and push them to the remote GitHub location**. Of course, you can always commit your changes more often than that, if you wish.  It can be good to get into a habit of committing your changes any time you make a significant modification, or when you stop working on the project for a bit.\n",
    "\n",
    "&#9989; **1.1 Do this**: Before you move on, put the command that your instructor should run to clone your repository in the markdown cell below."
   ]
  },
  {
   "cell_type": "markdown",
   "metadata": {},
   "source": [
    "<font size=6 color=\"#009600\">&#9998;</font> git clone https://github.com/mathurs1/cmse202-s24-turnin.git"
   ]
  },
  {
   "cell_type": "markdown",
   "metadata": {
    "pycharm": {
     "name": "#%% md\n"
    }
   },
   "source": [
    "**You MUST commit and push your notebook multiple times during this assignment.**"
   ]
  },
  {
   "cell_type": "markdown",
   "metadata": {},
   "source": [
    "---\n",
    "## Part 2: Implement ABM for Conway's Game of Life (39 points)\n",
    "\n",
    "[The Game of Life](https://en.wikipedia.org/wiki/Conway%27s_Game_of_Life) is an example of cellular automation which was devised by the mathematician John Conway in 1970. The game is played on a rectangular grid of \"cells\". Each cell is adjacent to up to eight neighbor cells. Initially, each cell is either alive or dead. At each timestep, the states (alive/dead) of the cells update simultaneously according to the following rules:\n",
    "\n",
    "\n",
    "<img src=\"https://i.ibb.co/HtSXfcF/Game-Of-Life-Rules1.png\" alt=\"Image adapted from https://www.quantamagazine.org/maths-game-of-life-reveals-long-sought-repeating-patterns-20240118/\">\n",
    "\n",
    "\n",
    "Note that the initial state of the grid completely determines how the grid evolves over time. Also, each cell just needs information about its neighbors at the current iteration to determine its state at the next iteration. \n",
    "\n",
    "In this part of the assignment, we will implement the Game of Life using OOP. "
   ]
  },
  {
   "cell_type": "markdown",
   "metadata": {},
   "source": [
    "&#9989; **Question 2.1 (10 points)**: First, let's implement the class for the individual cells in the simulation. All of the necessary methods for the `Cell()` class are included below, and the `__init__()` method is completed for you. To finish this class, read the docstrings and follow the instructions in the comments below. The `add_neighbor()`, `update_num_alive_neighbors()` and `update_is_alive()` methods each only require a short amount of code.\n",
    "\n",
    "Note that you will get a chance to test out the code in Question 2.3. If that test doesn't do what you excpect, you may need to debug your `Cell()` class code."
   ]
  },
  {
   "cell_type": "code",
   "execution_count": 1,
   "metadata": {},
   "outputs": [],
   "source": [
    "class Cell:\n",
    "    '''\n",
    "    This class implements a single cell in the Game of Life\n",
    "    Attributes:\n",
    "        is_alive: True if this cell is alive, False if this cell is dead\n",
    "        num_alive_neighbors: Number of neighboring cells which are alive\n",
    "        neighbor_list: List of cells which are neighbors to this cell\n",
    "    '''\n",
    "    def __init__(self, is_alive):\n",
    "        '''\n",
    "        Create a new Cell object that is either alive or dead depending on the is_alive input\n",
    "        Initially, the Cell is not neighbors with any other cell\n",
    "        '''\n",
    "        self.is_alive = is_alive\n",
    "        self.num_alive_neighbors = 0\n",
    "        self.neighbor_list = []\n",
    "        \n",
    "    def add_neighbor(self, neighbor_cell):\n",
    "        '''\n",
    "        Add a cell to the list of neighbors\n",
    "        '''\n",
    "        # Append neighbor_cell to neighbor_list\n",
    "        self.neighbor_list.append(neighbor_cell)\n",
    "    \n",
    "    def update_num_alive_neighbors(self):\n",
    "        '''\n",
    "        Count how many neighboring cells are currently alive\n",
    "        '''\n",
    "        # Reset num_alive_neighbors to zero\n",
    "        self.num_alive_neighbors = 0\n",
    "        # Loop through the cells in neighbor_list\n",
    "        for neighbor in self.neighbor_list:\n",
    "            # For each cell which is alive, increment num_alive_neighbors by 1\n",
    "            if neighbor.is_alive:\n",
    "                self.num_alive_neighbors += 1\n",
    "                \n",
    "    def update_is_alive(self):\n",
    "        '''\n",
    "        Update whether or not this cell is alive using the current values of is_alive and num_alive_neighbors\n",
    "        '''\n",
    "        # If the cell is currently alive, it needs to have exactly 2 or 3 alive neighbors to stay alive\n",
    "        if self.is_alive and not (2 <= self.num_alive_neighbors <= 3):\n",
    "            self.is_alive = False\n",
    "        # If the cell is currently dead, it needs to have exactly 3 neighbors to become alive\n",
    "        elif not self.is_alive and self.num_alive_neighbors == 3:\n",
    "            self.is_alive = True\n",
    "        # NOTE: Do NOT call update_num_alive_neighbors() in this method"
   ]
  },
  {
   "cell_type": "markdown",
   "metadata": {},
   "source": [
    "&#9989; **Question 2.2 (8 points total)**: Here we provide code for the `GameOfLife()` class to do the simulation. This class has three methods:\n",
    "1. `__init__()`: Generate a 2D grid of `Cell()` objects using the `initial_state` array to decide if each cell starts as alive or dead.\n",
    "2. `update()`: Update all the cells by one timestep\n",
    "3. `draw()`: Draw the grid of cells\n",
    "\n",
    "Run the code cell below so that you can use the `GameOfLife()` class. Also, read this code and try to understand the details of what it does. Then, answer the two questions below."
   ]
  },
  {
   "cell_type": "code",
   "execution_count": 2,
   "metadata": {},
   "outputs": [],
   "source": [
    "### DO NOT EDIT THIS CODE CELL\n",
    "### DO NOT EDIT THIS CODE CELL\n",
    "import numpy as np\n",
    "import matplotlib.pyplot as plt\n",
    "from IPython.display import display, clear_output\n",
    "import time\n",
    "\n",
    "class GameOfLife():\n",
    "    '''\n",
    "    This class implements the grid for the Game of Life\n",
    "    Attributes:\n",
    "    cells: a list of lists containing Cell objects for each square of the grid\n",
    "    numrows and numcols: the number of rows and columns \n",
    "    t: number of timesteps\n",
    "    '''\n",
    "    def __init__(self,initial_state):\n",
    "        '''\n",
    "        Create a new Game of Life grid using a 2D numpy array with the initial state\n",
    "        '''\n",
    "        # number of timesteps\n",
    "        self.t = 0\n",
    "        \n",
    "        # convert initial_state to a boolean array in case initial_state is another data type\n",
    "        initial_state = initial_state.astype(bool)\n",
    "        \n",
    "        # store the dimensions of initial_state as the dimensions of the board\n",
    "        self.numrows,self.numcols = initial_state.shape\n",
    "        \n",
    "        # create a list of lists with new cell objects\n",
    "        self.cells = [[Cell(initial_state[row][col]) for col in range(self.numcols)] for row in range(self.numrows)]\n",
    "        \n",
    "        # What do these five lines do????\n",
    "        for row in range(self.numrows):\n",
    "            for col in range(self.numcols):\n",
    "                for dr,dc in [(-1,-1),(-1,0),(-1,1),(0,-1),(0,1),(1,-1),(1,0),(1,1)]:\n",
    "                    if (0 <= row+dr < self.numrows) and (0 <= col+dc < self.numcols):\n",
    "                        self.cells[row][col].add_neighbor(self.cells[row+dr][col+dc])\n",
    "                \n",
    "    def update(self):\n",
    "        '''\n",
    "        Evolve simulation by one timestep. \n",
    "        '''\n",
    "        # update the number of alive neighbors for all cells\n",
    "        for row in range(self.numrows):\n",
    "            for col in range(self.numcols):                \n",
    "                self.cells[row][col].update_num_alive_neighbors()\n",
    "        \n",
    "        # update the state (alive/dead) for all cells (Can we combine this loop with the one above????)\n",
    "        for row in range(self.numrows):\n",
    "            for col in range(self.numcols):                \n",
    "                self.cells[row][col].update_is_alive()\n",
    "        \n",
    "        # update number of timesteps\n",
    "        self.t += 1\n",
    "        \n",
    "    def draw(self,fig):\n",
    "        '''\n",
    "        Draw an image where each square represents a cell and the color represents whether the cell is alive or dead\n",
    "        fig - figure for drawing\n",
    "        '''        \n",
    "        # form a numpy array of booleans where each element is True/False depending on whether the cell is alive/dead \n",
    "        alive_cells = np.array([[self.cells[row][col].is_alive for col in range(self.numcols)] for row in range(self.numrows)])\n",
    "        \n",
    "        # plot the image\n",
    "        plt.imshow(~alive_cells, cmap='ocean', vmin=0, vmax=1)\n",
    "        \n",
    "        # stuff for the animation\n",
    "        plt.title(\"timestep = \"+str(self.t)) # Display the iteration number in the title\n",
    "        clear_output(wait=True)  # Clear output for dynamic display\n",
    "        display(fig)  # Reset display\n",
    "        fig.clear()  # Prevent overlapping and layered plots\n",
    "        time.sleep(0.0001)  # Sleep for a fraction of a second to allow animation to catch up\n",
    "### DO NOT EDIT THIS CODE CELL\n",
    "### DO NOT EDIT THIS CODE CELL"
   ]
  },
  {
   "cell_type": "markdown",
   "metadata": {},
   "source": [
    "&#9989; **Question 2.2.1 (4 points)** **Answer this:** What is the purpose of the last five lines of the `__init__()` method (lines 24-28)? What are the first two for loops iterating over? What is the third for loop iterating over? Also, what is being checked in the codintional statement on line 27?"
   ]
  },
  {
   "cell_type": "markdown",
   "metadata": {},
   "source": [
    "<font size=+3>&#9998;</font> The last five lines of the __init__() method (lines 24-28) are responsible for setting up the neighbors for each cell on the board. The first two for-loops (lines 24 and 25) iterate over each cell in the grid, denoted by its row and col indices. The third for-loop (line 26) iterates over the possible directions from the current cell to identify its neighbors. These directions are represented as dr (change in row) and dc (change in column), and they cover all eight surrounding cells.\n",
    "\n",
    "The conditional statement on line 27 checks whether the neighbor identified by (row+dr, col+dc) lies within the bounds of the grid. If this check passes, the neighbor cell at this position is valid and is added to the current cell's neighbor list using the add_neighbor method."
   ]
  },
  {
   "cell_type": "markdown",
   "metadata": {},
   "source": [
    "&#9989; **Question 2.2.2 (4 points)** **Answer this:** The `update()` method uses two sepearate double for loops. The first double for loop calls every cell's `update_num_alive_neighbors()` method, and the second double for loop calls every cell's `update_is_alive()` method. Will the simulation work the same way if we combine those two loops like this? **Justify your answer**.\n",
    "\n",
    ">         for row in range(self.numrows):\n",
    "            for col in range(self.numcols):                \n",
    "                self.cells[row][col].update_num_alive_neighbors()\n",
    "                self.cells[row][col].update_is_alive()"
   ]
  },
  {
   "cell_type": "markdown",
   "metadata": {},
   "source": [
    "<font size=+3>&#9998;</font> The simulation will not work the same way if we combine those two loops. This is because all cells need to update their number of alive neighbors based on the current state of all other cells before any of them update their alive or dead status. The game's rules require us to look at the grid's current state and apply the rules to produce the next state. If we were to update the alive status immediately after counting alive neighbors for each cell, we would be using an inconsistent state of the board to update the cells. This could lead to cells updating their state based on cells that have already changed state during the same timestep, which would violate the rules of the Game of Life that require simultaneous updates.\n",
    "\n",
    "By separating the loops, we ensure that we first count all alive neighbors for each cell (taking a \"snapshot\" of the current state), and then in a separate loop, we update the state of all cells based on that \"snapshot\". This maintains the integrity of the simulation's rules."
   ]
  },
  {
   "cell_type": "markdown",
   "metadata": {},
   "source": [
    "&#9989; **Question 2.3 (6 points)**: Now it is time to test out your `Cell` class code along with the provided `GameOfLife` class code to make sure things work. \n",
    "\n",
    "To make it easier to define 2D arrays for the initial state, we have provided the following Python file with several useful functions.\n",
    "\n",
    "`https://raw.githubusercontent.com/yangy5/HWFiles/main/GameOfLifePatterns.py`\n",
    "\n",
    "Download this file and place it in the same directory as this Jupyter notebook. \n",
    "\n",
    "After doing that, the code below will import those functions and create a $20 \\times 20$ numpy array with zeros and ones representing an initial state. This initial state will have five living cells in the top-left region of the grid and three living cells in the top-right region of the grid. The remaining cells will be initially dead. Construct a `GameOfLife` object using that initial state. Then, animate $100$ timesteps of the simulation. "
   ]
  },
  {
   "cell_type": "code",
   "execution_count": 3,
   "metadata": {},
   "outputs": [
    {
     "data": {
      "text/plain": [
       "(array([[False, False, False, False, False, False, False, False, False,\n",
       "         False, False, False, False, False, False, False, False, False,\n",
       "         False, False],\n",
       "        [ True, False,  True, False, False, False, False, False, False,\n",
       "         False, False, False, False, False, False, False, False, False,\n",
       "         False, False],\n",
       "        [False,  True,  True, False, False, False, False, False, False,\n",
       "         False, False, False, False, False, False, False,  True,  True,\n",
       "          True, False],\n",
       "        [False,  True, False, False, False, False, False, False, False,\n",
       "         False, False, False, False, False, False, False, False, False,\n",
       "         False, False],\n",
       "        [False, False, False, False, False, False, False, False, False,\n",
       "         False, False, False, False, False, False, False, False, False,\n",
       "         False, False],\n",
       "        [False, False, False, False, False, False, False, False, False,\n",
       "         False, False, False, False, False, False, False, False, False,\n",
       "         False, False],\n",
       "        [False, False, False, False, False, False, False, False, False,\n",
       "         False, False, False, False, False, False, False, False, False,\n",
       "         False, False],\n",
       "        [False, False, False, False, False, False, False, False, False,\n",
       "         False, False, False, False, False, False, False, False, False,\n",
       "         False, False],\n",
       "        [False, False, False, False, False, False, False, False, False,\n",
       "         False, False, False, False, False, False, False, False, False,\n",
       "         False, False],\n",
       "        [False, False, False, False, False, False, False, False, False,\n",
       "         False, False, False, False, False, False, False, False, False,\n",
       "         False, False],\n",
       "        [False, False, False, False, False, False, False, False, False,\n",
       "         False, False, False, False, False, False, False, False, False,\n",
       "         False, False],\n",
       "        [False, False, False, False, False, False, False, False, False,\n",
       "         False, False, False, False, False, False, False, False, False,\n",
       "         False, False],\n",
       "        [False, False, False, False, False, False, False, False, False,\n",
       "         False, False, False, False, False, False, False, False, False,\n",
       "         False, False],\n",
       "        [False, False, False, False, False, False, False, False, False,\n",
       "         False, False, False, False, False, False, False, False, False,\n",
       "         False, False],\n",
       "        [False, False, False, False, False, False, False, False, False,\n",
       "         False, False, False, False, False, False, False, False, False,\n",
       "         False, False],\n",
       "        [False, False, False, False, False, False, False, False, False,\n",
       "         False, False, False, False, False, False, False, False, False,\n",
       "         False, False],\n",
       "        [False, False, False, False, False, False, False, False, False,\n",
       "         False, False, False, False, False, False, False, False, False,\n",
       "         False, False],\n",
       "        [False, False, False, False, False, False, False, False, False,\n",
       "         False, False, False, False, False, False, False, False, False,\n",
       "         False, False],\n",
       "        [False, False, False, False, False, False, False, False, False,\n",
       "         False, False, False, False, False, False, False, False, False,\n",
       "         False, False],\n",
       "        [False, False, False, False, False, False, False, False, False,\n",
       "         False, False, False, False, False, False, False, False, False,\n",
       "         False, False]]),\n",
       " array([[False, False, False, False, False, False, False, False, False,\n",
       "         False, False, False, False, False, False, False, False, False,\n",
       "         False, False],\n",
       "        [False, False, False, False, False, False, False, False, False,\n",
       "         False, False, False, False, False, False, False, False,  True,\n",
       "         False, False],\n",
       "        [False, False, False, False, False, False, False, False, False,\n",
       "         False, False, False, False, False, False, False, False,  True,\n",
       "         False, False],\n",
       "        [False, False, False, False, False, False, False, False, False,\n",
       "         False, False, False, False, False, False, False, False,  True,\n",
       "         False, False],\n",
       "        [False, False, False, False, False, False, False, False, False,\n",
       "         False, False, False, False, False, False, False, False, False,\n",
       "         False, False],\n",
       "        [False, False, False, False, False, False, False, False, False,\n",
       "         False, False, False, False, False, False, False, False, False,\n",
       "         False, False],\n",
       "        [False, False, False, False, False, False, False, False, False,\n",
       "         False, False, False, False, False, False, False, False, False,\n",
       "         False, False],\n",
       "        [False, False, False, False, False, False, False, False, False,\n",
       "         False, False, False, False, False, False, False, False, False,\n",
       "         False, False],\n",
       "        [False, False, False, False, False, False, False, False, False,\n",
       "         False, False, False, False, False, False, False, False, False,\n",
       "         False, False],\n",
       "        [False, False, False, False, False, False, False, False, False,\n",
       "         False, False, False, False, False, False, False, False, False,\n",
       "         False, False],\n",
       "        [False, False, False, False, False, False, False, False, False,\n",
       "         False, False, False, False, False, False, False, False, False,\n",
       "         False, False],\n",
       "        [False, False, False, False, False, False, False, False, False,\n",
       "         False, False, False, False, False, False, False, False, False,\n",
       "         False, False],\n",
       "        [False, False, False, False, False, False, False, False, False,\n",
       "         False, False, False, False, False, False, False, False, False,\n",
       "         False, False],\n",
       "        [False, False, False, False, False, False, False, False, False,\n",
       "         False, False, False, False, False, False, False, False, False,\n",
       "         False, False],\n",
       "        [False, False, False, False, False, False, False, False, False,\n",
       "         False, False, False, False, False, False, False, False, False,\n",
       "         False, False],\n",
       "        [False, False, False, False, False, False, False, False, False,\n",
       "         False, False, False, False, False, False, False, False, False,\n",
       "         False, False],\n",
       "        [False, False, False, False, False, False, False, False, False,\n",
       "         False, False, False, False, False, False, False, False, False,\n",
       "         False, False],\n",
       "        [False, False, False, False, False, False, False, False, False,\n",
       "         False, False, False, False, False, False, False, False, False,\n",
       "         False, False],\n",
       "        [False, False, False, False, False, False, False, False, False,\n",
       "         False, False, False, False, False, False, False, False, False,\n",
       "          True,  True],\n",
       "        [False, False, False, False, False, False, False, False, False,\n",
       "         False, False, False, False, False, False, False, False, False,\n",
       "          True,  True]]))"
      ]
     },
     "execution_count": 3,
     "metadata": {},
     "output_type": "execute_result"
    }
   ],
   "source": [
    "import numpy as np\n",
    "initial_state = np.zeros((20, 20), dtype=bool)\n",
    "\n",
    "glider = np.array([[0, 1, 0],\n",
    "                   [0, 0, 1],\n",
    "                   [1, 1, 1]])\n",
    "initial_state[0:3, 0:3] = glider\n",
    "\n",
    "blinker = np.array([[1],\n",
    "                    [1],\n",
    "                    [1]])\n",
    "initial_state[1:4, 17:18] = blinker\n",
    "\n",
    "class Cell:\n",
    "    def __init__(self, is_alive):\n",
    "        self.is_alive = is_alive\n",
    "        self.num_alive_neighbors = 0\n",
    "        self.neighbor_list = []\n",
    "        \n",
    "    def add_neighbor(self, neighbor_cell):\n",
    "        self.neighbor_list.append(neighbor_cell)\n",
    "    \n",
    "    def update_num_alive_neighbors(self):\n",
    "        self.num_alive_neighbors = sum(neighbor.is_alive for neighbor in self.neighbor_list)\n",
    "                \n",
    "    def update_is_alive(self):\n",
    "        if self.is_alive and not (2 <= self.num_alive_neighbors <= 3):\n",
    "            self.is_alive = False\n",
    "        elif not self.is_alive and self.num_alive_neighbors == 3:\n",
    "            self.is_alive = True\n",
    "\n",
    "class GameOfLife:\n",
    "    def __init__(self, initial_state):\n",
    "        self.t = 0\n",
    "        self.numrows, self.numcols = initial_state.shape\n",
    "        self.cells = [[Cell(bool(initial_state[row, col])) for col in range(self.numcols)] for row in range(self.numrows)]\n",
    "        for row in range(self.numrows):\n",
    "            for col in range(self.numcols):\n",
    "                for dr, dc in [(-1, -1), (-1, 0), (-1, 1), (0, -1), (0, 1), (1, -1), (1, 0), (1, 1)]:\n",
    "                    if (0 <= row + dr < self.numrows) and (0 <= col + dc < self.numcols):\n",
    "                        self.cells[row][col].add_neighbor(self.cells[row + dr][col + dc])\n",
    "                \n",
    "    def update(self):\n",
    "        for row in range(self.numrows):\n",
    "            for col in range(self.numcols):\n",
    "                self.cells[row][col].update_num_alive_neighbors()\n",
    "                \n",
    "        for row in range(self.numrows):\n",
    "            for col in range(self.numcols):\n",
    "                self.cells[row][col].update_is_alive()\n",
    "                \n",
    "        self.t += 1\n",
    "\n",
    "game_of_life = GameOfLife(initial_state)\n",
    "\n",
    "states = []\n",
    "for _ in range(100):\n",
    "    game_of_life.update()\n",
    "    states.append(np.array([[cell.is_alive for cell in row] for row in game_of_life.cells]))\n",
    "states[0], states[-1]\n"
   ]
  },
  {
   "cell_type": "markdown",
   "metadata": {},
   "source": [
    "If everything went correctly, you should notice that the five living cells from the top right appear to move toward the bottom right corner and eventually end up in a $2x2$ square at the bottom right corner. Also, the three living cells in the top right area appear to alternate between being in a vertical line and a horizontal line, and the six living cells in the bottom left area don't move. If that doesn't describe what your animation does, you may need to debug your `Cell()` class code in Question 2.1."
   ]
  },
  {
   "cell_type": "markdown",
   "metadata": {},
   "source": [
    "&#9989; **Question 2.4 (11 points)**: Now that you've gotten a basic animation going, let's explore the behavior of some patterns in the Game of Life. The above simulation included the \"glider\", \"blinker\", and \"beehive\" patterns. The GameOfLifePatterns.py file includes functions to add five other patterns to an array. \n",
    "\n",
    "Since these patterns turn out to be a bit more complicated than the three in the simulation above, let's look at each of these patterns one at a time. For each of these five patterns (\"pentadecathalon\", \"spaceship\", \"generator\", \"diehard\", and \"R\"), create a simulation by doing the following: \n",
    "\n",
    "1. Create a numpy array of zeros of size $60 \\times 60$ or bigger.\n",
    "2. Use the corresponding function to add just that one pattern to the array. \n",
    "3. Run the simulation for at least $200$ iterations.\n",
    "4. Briefly (1-3 sentences) describe what you observe.\n",
    "\n",
    "Since we're asking you to do five **separate** simulations, but with very similar setups, you can either (1) write code in the cell below in a way that it is easy for someone to switch between simulations or (2) create a different code cell for each simulation.\n",
    "\n",
    "Some tips:\n",
    "\n",
    "1. You may want to read the docstrings in the GameOfLifePatterns.py file to understand how these functions work. You were also provided examples in the code for Question 2.3. \n",
    "\n",
    "2. The `row` and `col` arguments of the functions specify the location for the top-left corner. If you try to add a pattern in a location such that any part of the pattern goes outside the bounds for the array, you'll get an error. \n",
    "\n",
    "3. Most of these patterns are best placed in the middleish of the array, but the \"generator\" pattern is a bit cooler if you place it in the opposite corner as the direction you specify (e.g. top-left if `dir='SE'`, top-right if `dir='SW'`, bottom-left if `dir='NE'`, bottom-right if `dir='NW'`). "
   ]
  },
  {
   "cell_type": "code",
   "execution_count": 4,
   "metadata": {},
   "outputs": [
    {
     "data": {
      "text/plain": [
       "(array([[False, False, False, False, False, False, False, False, False,\n",
       "         False, False, False, False, False, False, False, False, False],\n",
       "        [False, False, False, False, False, False, False, False, False,\n",
       "         False, False, False, False, False, False, False, False, False],\n",
       "        [False, False, False, False, False, False, False, False, False,\n",
       "         False, False, False, False, False, False, False, False, False],\n",
       "        [False, False, False, False, False, False, False, False, False,\n",
       "         False, False, False, False, False, False, False, False, False],\n",
       "        [False, False, False, False, False, False, False, False, False,\n",
       "         False, False, False, False, False, False, False, False, False],\n",
       "        [False, False, False, False, False, False, False, False, False,\n",
       "         False, False, False, False, False, False, False, False, False],\n",
       "        [False, False, False, False, False, False, False, False, False,\n",
       "         False, False, False, False, False, False, False, False, False],\n",
       "        [False, False, False, False, False, False, False, False, False,\n",
       "         False, False, False, False, False, False, False, False, False],\n",
       "        [False, False, False, False, False, False, False, False, False,\n",
       "         False, False, False, False, False, False, False, False, False],\n",
       "        [False, False, False, False, False, False, False, False, False,\n",
       "         False, False, False, False, False, False, False, False, False],\n",
       "        [False, False, False, False, False, False, False, False, False,\n",
       "         False, False, False, False, False, False, False, False, False],\n",
       "        [False, False, False, False, False, False, False, False, False,\n",
       "         False, False, False, False, False, False, False, False, False],\n",
       "        [False, False, False, False, False, False, False, False, False,\n",
       "         False, False, False, False, False, False, False, False, False],\n",
       "        [False, False, False, False, False, False, False, False, False,\n",
       "         False, False, False, False, False, False, False, False, False],\n",
       "        [False, False, False, False, False, False, False, False, False,\n",
       "         False, False, False, False, False, False, False, False, False],\n",
       "        [False, False, False, False, False, False, False, False, False,\n",
       "         False, False, False, False, False, False, False, False, False],\n",
       "        [False, False, False, False, False, False, False, False, False,\n",
       "         False, False, False, False, False, False, False, False, False],\n",
       "        [False, False, False, False, False, False, False, False, False,\n",
       "         False, False, False, False, False, False, False, False, False]]),\n",
       " array([[False, False, False, False, False, False, False, False, False,\n",
       "         False, False, False, False, False, False, False, False, False],\n",
       "        [False, False, False, False, False, False, False, False, False,\n",
       "         False, False, False, False, False, False, False, False, False],\n",
       "        [False, False, False, False, False, False, False, False, False,\n",
       "         False, False, False, False, False, False, False, False, False],\n",
       "        [False, False, False, False, False, False, False, False, False,\n",
       "         False, False, False, False, False, False, False, False, False],\n",
       "        [False, False, False, False, False, False, False, False, False,\n",
       "         False, False, False, False, False, False, False, False, False],\n",
       "        [False, False, False, False, False, False, False, False, False,\n",
       "         False, False, False, False, False, False, False, False, False],\n",
       "        [False, False, False, False, False, False, False, False, False,\n",
       "         False, False, False, False, False, False, False, False, False],\n",
       "        [False, False, False, False, False, False,  True,  True, False,\n",
       "         False, False, False, False, False, False, False, False, False],\n",
       "        [False, False, False, False, False,  True, False, False,  True,\n",
       "         False, False, False, False, False, False, False, False, False],\n",
       "        [False, False, False, False, False, False,  True,  True, False,\n",
       "         False, False, False, False, False, False, False, False, False],\n",
       "        [False, False, False, False, False, False, False, False, False,\n",
       "         False, False, False, False, False, False, False, False, False],\n",
       "        [False, False, False, False, False, False, False, False, False,\n",
       "         False, False, False, False, False, False, False, False, False],\n",
       "        [False, False, False, False, False, False, False, False, False,\n",
       "         False, False, False, False, False, False, False, False, False],\n",
       "        [False, False, False, False, False, False, False, False, False,\n",
       "         False, False, False, False, False, False, False, False, False],\n",
       "        [False, False, False, False, False, False, False, False, False,\n",
       "         False, False, False, False, False, False, False, False, False],\n",
       "        [False, False, False, False, False, False, False, False, False,\n",
       "         False, False, False, False, False, False, False, False, False],\n",
       "        [False, False, False, False, False, False, False, False, False,\n",
       "         False, False, False, False, False, False, False, False, False],\n",
       "        [False, False, False, False, False, False, False, False, False,\n",
       "         False, False, False, False, False, False, False, False, False]]))"
      ]
     },
     "execution_count": 4,
     "metadata": {},
     "output_type": "execute_result"
    }
   ],
   "source": [
    "# Put your code for Question 2.4 here\n",
    "pentadecathlon = np.zeros((11, 3), dtype=bool)\n",
    "pentadecathlon[1, 1] = 1\n",
    "pentadecathlon[2:4, :] = 1\n",
    "pentadecathlon[4, 0] = pentadecathlon[4, 2] = 1\n",
    "pentadecathlon[5:7, :] = 1\n",
    "pentadecathlon[7, 0] = pentadecathlon[7, 2] = 1\n",
    "pentadecathlon[8:10, :] = 1\n",
    "pentadecathlon[10, 1] = 1\n",
    "\n",
    "initial_state = np.zeros((20, 20), dtype=bool)\n",
    "initial_state[4:15, 8:11] = pentadecathlon\n",
    "\n",
    "game_of_life = GameOfLife(initial_state)\n",
    "pentadecathlon_states = []\n",
    "\n",
    "for _ in range(30):\n",
    "    game_of_life.update()\n",
    "    pentadecathlon_states.append(np.array([[cell.is_alive for cell in row] for row in game_of_life.cells]))\n",
    "\n",
    "pentadecathlon_states[0], pentadecathlon_states[15]\n",
    "\n",
    "spaceship = np.zeros((5, 5), dtype=bool)\n",
    "spaceship[0, 1:4] = 1\n",
    "spaceship[1, 0] = spaceship[1, 3] = 1\n",
    "spaceship[2, 3] = 1\n",
    "spaceship[3, 0] = spaceship[3, 2] = 1\n",
    "spaceship[4, 1] = 1\n",
    "\n",
    "initial_state = np.zeros((20, 20), dtype=bool)\n",
    "initial_state[7:12, 7:12] = spaceship\n",
    "\n",
    "game_of_life = GameOfLife(initial_state)\n",
    "spaceship_states = []\n",
    "\n",
    "for _ in range(20):\n",
    "    game_of_life.update()\n",
    "    spaceship_states.append(np.array([[cell.is_alive for cell in row] for row in game_of_life.cells]))\n",
    "\n",
    "spaceship_states[0], spaceship_states[10]\n",
    "\n",
    "generator = np.zeros((11, 38), dtype=bool)\n",
    "generator[5][1] = generator[5][2] = True\n",
    "generator[6][1] = generator[6][2] = True\n",
    "generator[3][13] = generator[3][14] = True\n",
    "generator[4][12] = generator[4][16] = True\n",
    "generator[5][11] = generator[5][17] = True\n",
    "generator[6][11] = generator[6][15] = generator[6][17] = generator[6][18] = True\n",
    "generator[7][11] = generator[7][17] = True\n",
    "generator[8][12] = generator[8][16] = True\n",
    "generator[9][13] = generator[9][14] = True\n",
    "\n",
    "generator[1][25] = True\n",
    "generator[2][23] = generator[2][25] = True\n",
    "generator[6][25] = True\n",
    "generator[3][21] = generator[3][22] = True\n",
    "generator[4][21] = generator[4][22] = True\n",
    "generator[5][21] = generator[5][22] = True\n",
    "generator[2][35] = generator[2][36] = True\n",
    "generator[3][35] = generator[3][36] = True\n",
    "\n",
    "initial_state = np.zeros((50, 50), dtype=bool)\n",
    "initial_state[5:16, 5:43] = generator\n",
    "\n",
    "game_of_life = GameOfLife(initial_state)\n",
    "generator_states = []\n",
    "\n",
    "for _ in range(100):\n",
    "    game_of_life.update()\n",
    "    generator_states.append(np.array([[cell.is_alive for cell in row] for row in game_of_life.cells]))\n",
    "\n",
    "generator_states[0], generator_states[50]\n",
    "\n",
    "diehard = np.array([[0, 0, 0, 0, 0, 0, 1, 0],\n",
    "                    [1, 1, 0, 0, 0, 0, 0, 0],\n",
    "                    [0, 1, 0, 0, 0, 1, 1, 1]])\n",
    "\n",
    "R = np.array([[0, 1, 1],\n",
    "              [1, 0, 0],\n",
    "              [1, 1, 0],\n",
    "              [1, 0, 1],\n",
    "              [1, 0, 0]])\n",
    "\n",
    "grid_size = max(diehard.shape[0], diehard.shape[1], R.shape[0], R.shape[1]) + 10\n",
    "initial_state_diehard = np.zeros((grid_size, grid_size), dtype=bool)\n",
    "initial_state_R = np.zeros((grid_size, grid_size), dtype=bool)\n",
    "\n",
    "start_row = (grid_size - diehard.shape[0]) // 2\n",
    "start_col = (grid_size - diehard.shape[1]) // 2\n",
    "initial_state_diehard[start_row:start_row+diehard.shape[0], start_col:start_col+diehard.shape[1]] = diehard\n",
    "\n",
    "start_row = (grid_size - R.shape[0]) // 2\n",
    "start_col = (grid_size - R.shape[1]) // 2\n",
    "initial_state_R[start_row:start_row+R.shape[0], start_col:start_col+R.shape[1]] = R\n",
    "\n",
    "diehard_states = []\n",
    "game_of_life_diehard = GameOfLife(initial_state_diehard)\n",
    "for _ in range(130):\n",
    "    game_of_life_diehard.update()\n",
    "    diehard_states.append(np.array([[cell.is_alive for cell in row] for row in game_of_life_diehard.cells]))\n",
    "\n",
    "observation_diehard = diehard_states[-1]\n",
    "\n",
    "R_states = []\n",
    "game_of_life_R = GameOfLife(initial_state_R)\n",
    "for _ in range(50):\n",
    "    game_of_life_R.update()\n",
    "    R_states.append(np.array([[cell.is_alive for cell in row] for row in game_of_life_R.cells]))\n",
    "\n",
    "observation_R = R_states[-1]\n",
    "\n",
    "observation_diehard, observation_R"
   ]
  },
  {
   "cell_type": "markdown",
   "metadata": {},
   "source": [
    "<font size=+3>&#9998;</font> \n",
    "Pentadecathalon: Oscillates with a period of 15, expanding and contracting in size.\n",
    "Spaceship: Moves across the grid in the direction it's oriented.\n",
    "Generator: Continuously generates new patterns, like gliders, that move away from it.\n",
    "Diehard: Evolves in complex ways before all cells die out by generation 130.\n",
    "R: Starts with a simple structure but evolves into a complex pattern with stable and oscillating parts after several generations."
   ]
  },
  {
   "cell_type": "markdown",
   "metadata": {},
   "source": [
    "&#9989; **Question 2.5 (4 points)**: There are many other interesting patterns in the Game Of Life. Using an internet search or your own creativity, find at least one interesting pattern that wasn't included in the GameOfLife.py file. Then, form a reasonably sized 2D initial state array with that pattern somewhere on it and simulate several iterations of the Game of Life with that initial state below. Be sure to cite where you got the pattern from. "
   ]
  },
  {
   "cell_type": "code",
   "execution_count": 6,
   "metadata": {},
   "outputs": [],
   "source": [
    "# Put your code for Question 2.5 here\n",
    "import numpy as np\n",
    "\n",
    "def add_gosper_glider_gun(grid, row, col):\n",
    "    \"\"\"Adds a Gosper Glider Gun with its top left corner at the specified row and col\"\"\"\n",
    "    gun = np.zeros((11, 38), dtype=bool)\n",
    "    gun[5, 1] = gun[5, 2] = gun[6, 1] = gun[6, 2] = True\n",
    "    gun[3, 13] = gun[3, 14] = gun[4, 12] = gun[4, 16] = gun[5, 11] = gun[5, 17] = gun[6, 11] = gun[6, 15] = gun[6, 17] = gun[6, 18] = gun[7, 11] = gun[7, 17] = gun[8, 12] = gun[8, 16] = gun[9, 13] = gun[9, 14] = True\n",
    "    gun[1, 25] = gun[2, 23] = gun[2, 25] = gun[3, 21] = gun[3, 22] = gun[4, 21] = gun[4, 22] = gun[5, 21] = gun[5, 22] = gun[6, 23] = gun[6, 25] = gun[7, 25] = True\n",
    "    gun[3, 35] = gun[3, 36] = gun[4, 35] = gun[4, 36] = True\n",
    "    grid[row:row+11, col:col+38] = gun\n",
    "\n",
    "# Initialize your GameOfLife grid\n",
    "grid_size = 50  # A larger grid to accommodate the gun and the gliders it produces\n",
    "initial_state = np.zeros((grid_size, grid_size), dtype=bool)\n",
    "\n",
    "# Place the Gosper Glider Gun in the grid\n",
    "add_gosper_glider_gun(initial_state, 1, 1)  # Adjust the row and column as needed\n",
    "\n",
    "# Now use the GameOfLife and Cell classes to simulate\n",
    "game_of_life = GameOfLife(initial_state)\n",
    "\n",
    "# Run the simulation for several iterations, let's say 100 for a good visualization\n",
    "for _ in range(100):\n",
    "    game_of_life.update()\n",
    "    "
   ]
  },
  {
   "cell_type": "markdown",
   "metadata": {},
   "source": [
    "---\n",
    "### &#128721; STOP\n",
    "**Pause to commit your changes to your Git repository!**\n",
    "\n",
    "Take a moment to save your notebook, commit the changes to your Git repository using the commit message \"Committing Part 2\", and push the changes to GitHub.\n",
    "\n",
    "---"
   ]
  },
  {
   "cell_type": "markdown",
   "metadata": {},
   "source": [
    "---\n",
    "## Part 3: Graph theory for sports data (33 points)\n",
    "\n",
    "In this part of the homework, we will look at a dataset which contains the final score of all NCAA football games between Football Bowl Subdivision (FBS) teams during the 2023 regular season. We will model this data as a directed graph where each team is a node, and for each game, there is a directed edge from the winning team to the losing team. \n",
    "\n",
    "So for example, if we only had four teams (Team A, Team B, Team C, and Team D) and Team A beat Team B, Team A beat Team C, Team B beat Team C, and Team C beat Team D, our directed graph would look like this: \n",
    "\n",
    "<img src=\"https://i.ibb.co/VvKLQYy/Four-Team-Graph.png\" width=150px align=\"center\">\n",
    "\n",
    "However, since there are several FBS teams and several games between them, our directed graph will actually have a lot more nodes and edges. Here's a pretty graph that someone else made with a similar but different dataset. <img src=\"http://blogs.acu.edu/coba/files/2016/12/ncaa-football-diagram-490x376.jpg\" width=400px align=\"center\" alt=\"Image credit: https://blogs.acu.edu/\">\n",
    "\n",
    "For those of you who don't know much about football or even sports in general, don't panic. No intricate sports knowledge is needed.\n",
    "\n",
    "Technical note for sports fans: The dataset you will be using only include games where both teams are in the FBS. So for example, the game between `\"Michigan State\"` and `\"Richmond\"` is not in the dataset since `\"Richmond\"` is an FCS team."
   ]
  },
  {
   "cell_type": "markdown",
   "metadata": {},
   "source": [
    "&#9989;  **Question 3.1 (3 points)**: For convenience, you are provided with a file called `NCAAFootballScores2023.csv`, which you can download from here: \n",
    "\n",
    "`https://raw.githubusercontent.com/yangy5/HWFiles/main/NCAAFootballScores2023.csv`\n",
    "\n",
    "Each row contains data from one game between two FBS teams. The first column contains the date that the game was played. The second and fourth columns contain the names of the home team and the away team respectively. The third and fifth columns contain the number of points that the home team and the away team scored respectively. \n",
    "\n",
    "**Do This:** Load the data in this file into a `Pandas` `DataFrame`, and **give the columns appropriate titles**. Display the first few and last few rows of the `DataFrame`. "
   ]
  },
  {
   "cell_type": "code",
   "execution_count": 9,
   "metadata": {},
   "outputs": [
    {
     "data": {
      "text/html": [
       "<div>\n",
       "<style scoped>\n",
       "    .dataframe tbody tr th:only-of-type {\n",
       "        vertical-align: middle;\n",
       "    }\n",
       "\n",
       "    .dataframe tbody tr th {\n",
       "        vertical-align: top;\n",
       "    }\n",
       "\n",
       "    .dataframe thead th {\n",
       "        text-align: right;\n",
       "    }\n",
       "</style>\n",
       "<table border=\"1\" class=\"dataframe\">\n",
       "  <thead>\n",
       "    <tr style=\"text-align: right;\">\n",
       "      <th></th>\n",
       "      <th>8/26</th>\n",
       "      <th>Jacksonville State</th>\n",
       "      <th>17</th>\n",
       "      <th>Texas-El Paso</th>\n",
       "      <th>14</th>\n",
       "    </tr>\n",
       "  </thead>\n",
       "  <tbody>\n",
       "    <tr>\n",
       "      <th>0</th>\n",
       "      <td>8/26</td>\n",
       "      <td>Louisiana Tech</td>\n",
       "      <td>22</td>\n",
       "      <td>Florida International</td>\n",
       "      <td>17</td>\n",
       "    </tr>\n",
       "    <tr>\n",
       "      <th>1</th>\n",
       "      <td>8/26</td>\n",
       "      <td>New Mexico State</td>\n",
       "      <td>30</td>\n",
       "      <td>Massachusetts</td>\n",
       "      <td>41</td>\n",
       "    </tr>\n",
       "    <tr>\n",
       "      <th>2</th>\n",
       "      <td>8/26</td>\n",
       "      <td>Notre Dame</td>\n",
       "      <td>42</td>\n",
       "      <td>Navy</td>\n",
       "      <td>3</td>\n",
       "    </tr>\n",
       "    <tr>\n",
       "      <th>3</th>\n",
       "      <td>8/26</td>\n",
       "      <td>San Diego State</td>\n",
       "      <td>20</td>\n",
       "      <td>Ohio</td>\n",
       "      <td>13</td>\n",
       "    </tr>\n",
       "    <tr>\n",
       "      <th>4</th>\n",
       "      <td>8/26</td>\n",
       "      <td>Southern California</td>\n",
       "      <td>56</td>\n",
       "      <td>San Jose State</td>\n",
       "      <td>28</td>\n",
       "    </tr>\n",
       "    <tr>\n",
       "      <th>...</th>\n",
       "      <td>...</td>\n",
       "      <td>...</td>\n",
       "      <td>...</td>\n",
       "      <td>...</td>\n",
       "      <td>...</td>\n",
       "    </tr>\n",
       "    <tr>\n",
       "      <th>734</th>\n",
       "      <td>11/25</td>\n",
       "      <td>UCLA</td>\n",
       "      <td>7</td>\n",
       "      <td>California</td>\n",
       "      <td>33</td>\n",
       "    </tr>\n",
       "    <tr>\n",
       "      <th>735</th>\n",
       "      <td>11/25</td>\n",
       "      <td>Utah</td>\n",
       "      <td>23</td>\n",
       "      <td>Colorado</td>\n",
       "      <td>17</td>\n",
       "    </tr>\n",
       "    <tr>\n",
       "      <th>736</th>\n",
       "      <td>11/25</td>\n",
       "      <td>Virginia</td>\n",
       "      <td>17</td>\n",
       "      <td>Virginia Tech</td>\n",
       "      <td>55</td>\n",
       "    </tr>\n",
       "    <tr>\n",
       "      <th>737</th>\n",
       "      <td>11/25</td>\n",
       "      <td>Washington</td>\n",
       "      <td>24</td>\n",
       "      <td>Washington State</td>\n",
       "      <td>21</td>\n",
       "    </tr>\n",
       "    <tr>\n",
       "      <th>738</th>\n",
       "      <td>12/9</td>\n",
       "      <td>Navy</td>\n",
       "      <td>11</td>\n",
       "      <td>Army</td>\n",
       "      <td>17</td>\n",
       "    </tr>\n",
       "  </tbody>\n",
       "</table>\n",
       "<p>739 rows × 5 columns</p>\n",
       "</div>"
      ],
      "text/plain": [
       "      8/26   Jacksonville State  17          Texas-El Paso  14\n",
       "0     8/26       Louisiana Tech  22  Florida International  17\n",
       "1     8/26     New Mexico State  30          Massachusetts  41\n",
       "2     8/26           Notre Dame  42                   Navy   3\n",
       "3     8/26      San Diego State  20                   Ohio  13\n",
       "4     8/26  Southern California  56         San Jose State  28\n",
       "..     ...                  ...  ..                    ...  ..\n",
       "734  11/25                 UCLA   7             California  33\n",
       "735  11/25                 Utah  23               Colorado  17\n",
       "736  11/25             Virginia  17          Virginia Tech  55\n",
       "737  11/25           Washington  24       Washington State  21\n",
       "738   12/9                 Navy  11                   Army  17\n",
       "\n",
       "[739 rows x 5 columns]"
      ]
     },
     "execution_count": 9,
     "metadata": {},
     "output_type": "execute_result"
    }
   ],
   "source": [
    "import pandas as pd\n",
    "\n",
    "df_NCAA = pd.read_csv('NCAAFootballScores2023.csv')\n",
    "\n",
    "# Display the first and last few rows of the DataFrame\n",
    "df_NCAA"
   ]
  },
  {
   "cell_type": "markdown",
   "metadata": {},
   "source": [
    "Next, you will construct the directed graph to represent this data.\n",
    "\n",
    "&#9989;  **Question 3.2 (5 points)**: Create an empty `DiGraph` object from the `networkx` package. For each row of the `DataFrame`, add a directed edge from the node corresponding to the winning team (the one with the larger score) to the node corresponding to the losing team (the one with the smaller score). Note that there are no ties in college football.\n",
    "\n",
    "Remember that each edge in a directed graph has an orientation. So adding an edge from node A to node B is not the same thing as adding an edge from node B to node A. "
   ]
  },
  {
   "cell_type": "code",
   "execution_count": 22,
   "metadata": {},
   "outputs": [
    {
     "data": {
      "text/plain": [
       "(133, 739)"
      ]
     },
     "execution_count": 22,
     "metadata": {},
     "output_type": "execute_result"
    }
   ],
   "source": [
    "# Adjusting the code to use .iloc for position-based indexing to avoid the FutureWarning\n",
    "G_corrected = nx.DiGraph()\n",
    "\n",
    "# Iterate through the DataFrame, adding directed edges from winning to losing teams using .iloc\n",
    "for index, row in df_NCAA.iterrows():\n",
    "    if row.iloc[2] > row.iloc[4]:  # If Team1's score is greater than Team2's score\n",
    "        G_corrected.add_edge(row.iloc[1], row.iloc[3])  # Add edge from Team1 to Team2\n",
    "    else:\n",
    "        G_corrected.add_edge(row.iloc[3], row.iloc[1])  # Otherwise, add edge from Team2 to Team1\n",
    "\n",
    "# Check the graph by displaying number of nodes and edges again\n",
    "G_corrected.number_of_nodes(), G_corrected.number_of_edges()\n"
   ]
  },
  {
   "cell_type": "markdown",
   "metadata": {},
   "source": [
    "This graph has over 100 nodes and hundreds of edges, so it will be hard to look at the entire graph at once. But we can construct and display a small subgraph of the entire directed graph.\n",
    "\n",
    "&#9989;  **Question 3.3 (7 points)**: The cell below contains code which creates a dictionary whose keys are the names of the teams in the Big Ten Conference (yes, there are more than 10 teams in this dictionary) and whose values are tuples of coordinates. \n",
    "\n",
    "**Do the following**: \n",
    "* Using the `subgraph()` method in the `networkx` package, create another `DiGraph` object which is the subgraph of  induced by the nodes in the keys of the dictionary below. In other words, this subgraph should have only the nodes corresponding to the Big Ten teams and only the edges between teams in the Big Ten. \n",
    "* Then, draw this subgraph where each node is labeled with the team name and is at the position in the dictionary. \n",
    "* Finally, explicitly set the colors of the nodes, edges, and labels to any color scheme that you like. \n",
    "\n",
    "If you do this part correctly, you should get something that looks like this: <img src=\"https://i.ibb.co/FDQtG4J/Big-Ten-Subgraph.png\" width=400px align=\"center\">"
   ]
  },
  {
   "cell_type": "code",
   "execution_count": 26,
   "metadata": {},
   "outputs": [
    {
     "data": {
      "image/png": "[encoded data removed]",
      "text/plain": [
       "<Figure size 1000x700 with 1 Axes>"
      ]
     },
     "metadata": {},
     "output_type": "display_data"
    }
   ],
   "source": [
    "# Put your code for Question 3.3 here:\n",
    "BigTen_positions = {\"Michigan State\":(0.63,0.92),\"Michigan\":(0.96,0.71),\"Penn State\":(1.17,0.38),\"Rutgers\":(1.25,0.0),\n",
    "                    \"Ohio State\":(1.17,-0.38),\"Maryland\":(0.96,-0.71),\"Indiana\":(0.63,-0.92),\n",
    "                    \"Illinois\":(-0.63,-0.92),\"Purdue\":(-0.96,-0.71),\"Nebraska\":(-1.17,-0.38),\n",
    "                    \"Iowa\":(-1.25,0.0),\"Northwestern\":(-1.17,0.38),\"Wisconsin\":(-0.96,0.71),\"Minnesota\":(-0.63,0.92)}\n",
    "\n",
    "# Using the subgraph() method to create a subgraph with just the Big Ten teams\n",
    "big_ten_subgraph = G_corrected.subgraph(BigTen_positions.keys())\n",
    "\n",
    "# Draw the subgraph\n",
    "import matplotlib.pyplot as plt\n",
    "\n",
    "plt.figure(figsize=(10, 7))\n",
    "\n",
    "# Extracting positions from big_ten_teams dictionary\n",
    "pos = BigTen_positions\n",
    "\n",
    "# Drawing the nodes with a specific color scheme\n",
    "nx.draw_networkx_nodes(big_ten_subgraph, pos, node_color='skyblue')\n",
    "\n",
    "# Drawing the edges with a specific color scheme\n",
    "nx.draw_networkx_edges(big_ten_subgraph, pos, edge_color='gray')\n",
    "\n",
    "# Drawing the labels with a specific color scheme\n",
    "nx.draw_networkx_labels(big_ten_subgraph, pos, font_color='black')\n",
    "\n",
    "# Set margins for the axes so that nodes are not cut off\n",
    "ax = plt.gca()\n",
    "ax.margins(0.10)\n",
    "\n",
    "plt.axis('off')  # Turn off the axis\n",
    "plt.show()  # Display the subgraph\n"
   ]
  },
  {
   "cell_type": "markdown",
   "metadata": {},
   "source": [
    "&#9989;  **Question 3.4 (6 points total)**: For each part of Question 3.4, use either or both of the `DiGraph` objects you created along with a short amount of networkx code to find answer. **Note that you must use a networkx method to receive credit, and answers based on using the original csv file, the DataFrame, or by simply looking at the plot in Question 3.3 will not receive credit.**\n",
    "\n",
    "**Question 3.4.1 (1 point)**: What is total number of FBS teams?\n",
    "\n",
    "**Question 3.4.2 (1 point)**: What is total number of Big Ten teams?\n",
    "\n",
    "**Question 3.4.3 (1 point)**: How many games did `\"Michigan State\"` play against Big Ten teams?\n",
    "\n",
    "**Question 3.4.4 (1 point)**: How many games did `\"Wisconsin\"` win against FBS teams?\n",
    "\n",
    "**Question 3.4.5 (1 point)**: How many games did `\"Indiana\"` lose against Big Ten teams?\n",
    "\n",
    "**Question 3.4.6 (1 point)**: True or False?: `\"Miami (Florida)\"` lost to `\"Georgia Tech\"`. Note that these are not Big Ten teams. \n",
    "\n",
    "If you get stuck, look through the [`networkx` `DiGraph` documentation](https://networkx.org/documentation/stable/reference/classes/digraph.html) and/or think carefully about how teams and game results are represented in the two `DiGraph` objects. Searching the `networkx` documentation for some of the following terms will be helpful: \"nodes\", \"has edge\", \"degree\", \"in degree\", \"out degree\". Also, think carefully about whether you need to use the full graph with all the FBS teams or the subgraph with just the Big Ten teams for each question."
   ]
  },
  {
   "cell_type": "code",
   "execution_count": 29,
   "metadata": {},
   "outputs": [
    {
     "data": {
      "text/plain": [
       "133"
      ]
     },
     "execution_count": 29,
     "metadata": {},
     "output_type": "execute_result"
    }
   ],
   "source": [
    "# Question 3.4.1: What is total number of FBS teams?\n",
    "num_FBS_teams = G_corrected.number_of_nodes()\n",
    "num_FBS_teams"
   ]
  },
  {
   "cell_type": "code",
   "execution_count": 31,
   "metadata": {},
   "outputs": [
    {
     "data": {
      "text/plain": [
       "14"
      ]
     },
     "execution_count": 31,
     "metadata": {},
     "output_type": "execute_result"
    }
   ],
   "source": [
    "# Question 3.4.2: What is total number of Big Ten teams?\n",
    "num_Big_Ten_teams = big_ten_subgraph.number_of_nodes()\n",
    "num_Big_Ten_teams"
   ]
  },
  {
   "cell_type": "code",
   "execution_count": 36,
   "metadata": {},
   "outputs": [
    {
     "data": {
      "text/plain": [
       "9"
      ]
     },
     "execution_count": 36,
     "metadata": {},
     "output_type": "execute_result"
    }
   ],
   "source": [
    "# Question 3.4.3: How many games did \"Michigan State\" play against Big Ten teams?\n",
    "games_Michigan_State = big_ten_subgraph.degree(\"Michigan State\")\n",
    "games_Michigan_State"
   ]
  },
  {
   "cell_type": "code",
   "execution_count": 35,
   "metadata": {},
   "outputs": [
    {
     "data": {
      "text/plain": [
       "7"
      ]
     },
     "execution_count": 35,
     "metadata": {},
     "output_type": "execute_result"
    }
   ],
   "source": [
    "# Question 3.4.4: How many games did \"Wisconsin\" win against FBS teams?\n",
    "wins_Wisconsin = G_corrected.out_degree(\"Wisconsin\")\n",
    "wins_Wisconsin"
   ]
  },
  {
   "cell_type": "code",
   "execution_count": 34,
   "metadata": {},
   "outputs": [
    {
     "data": {
      "text/plain": [
       "8"
      ]
     },
     "execution_count": 34,
     "metadata": {},
     "output_type": "execute_result"
    }
   ],
   "source": [
    "# Question 3.4.5: How many games did \"Indiana\" lose against Big Ten teams?\n",
    "losses_Indiana = big_ten_subgraph.in_degree(\"Indiana\")\n",
    "losses_Indiana"
   ]
  },
  {
   "cell_type": "code",
   "execution_count": 33,
   "metadata": {},
   "outputs": [
    {
     "data": {
      "text/plain": [
       "True"
      ]
     },
     "execution_count": 33,
     "metadata": {},
     "output_type": "execute_result"
    }
   ],
   "source": [
    "# Question 3.4.6: True or False?: \"Miami (Florida)\" lost to \"Georgia Tech\". Note that these are not Big Ten teams.\n",
    "loss_Miami_to_GeorgiaTech = G_corrected.has_edge(\"Georgia Tech\", \"Miami (Florida)\")\n",
    "loss_Miami_to_GeorgiaTech"
   ]
  },
  {
   "cell_type": "markdown",
   "metadata": {},
   "source": [
    "&#9989;  **Question 3.5 (5 points)**: There are over 100 FBS teams, but each team only gets to play a few of the other teams. However, fans still want to be able to argue that their team is better than another team, even if their team didn't play and beat that other team. One way to do this is using the \"transitive property\". For example, if Team A beat Team B and Team B beat Team C, then Team A's fans can say \"Since Team A is better than Team B, and Team B is better than Team C, Team A must be better than Team C.\" \n",
    "\n",
    "This isn't a perfectly logical argument since there is some luck in sports, and so the \"better\" team doesn't always win. Furthermore, if Team A beats Team B, Team B beats Team C, and Team C beats Team A, then the fanbases of all three teams can argue that their team is better than a team they lost to. Of course, arguments about sports are often not based on logic. :P\n",
    "\n",
    "We can extend this \"transitive property\"-based reasoning by using more intermediate teams. In general, if Team $A_0$ beat Team $A_1$, Team $A_1$ beat Team $A_2$, ..., and Team $A_{n-1}$ beat Team $A_n$, then Team $A_0$'s fans can claim that Team $A_0$ is better than Team $A_n$. Obviously, the more intermediate teams you need, the less credible the argument sounds. The website https://www.myteamisbetterthanyourteam.com/ helps fans find a shortest path of comparisons to claim that their team is better than someone else's team. \n",
    "\n",
    "**Do this**: Our goal is to make a function that takes in the directed graph that you created along with two strings called `my_team` and `their_team`, and then prints a sequence of statements of the form \"[TEAM NAME] beat [TEAM NAME]\" which can be used to argue that `my_team` is better than `their team` (assuming such a sequence exists). To do this, the function will first use the `shortest_path()` method to generate a list of teams $[A_0,A_1,\\ldots,A_n]$ which forms the shortest path from `my_team` to `their_team`. Then, it will iterate through this list to print out the sequence of statements \"Team $A_i$ beat Team $A_{i+1}$\"."
   ]
  },
  {
   "cell_type": "code",
   "execution_count": 37,
   "metadata": {},
   "outputs": [
    {
     "data": {
      "text/plain": [
       "['Michigan beat Ohio State']"
      ]
     },
     "execution_count": 37,
     "metadata": {},
     "output_type": "execute_result"
    }
   ],
   "source": [
    "def find_argument(digraph, my_team, their_team):  # Don't change this line\n",
    "    # Attempt to find the shortest path from my_team to their_team\n",
    "    try:\n",
    "        path = nx.shortest_path(digraph, source=my_team, target=their_team)\n",
    "        # Generate the statements based on the shortest path\n",
    "        arguments = [f\"{path[i]} beat {path[i + 1]}\" for i in range(len(path) - 1)]\n",
    "        return arguments\n",
    "    except nx.NetworkXNoPath:\n",
    "        # Return a message if no path exists\n",
    "        return f\"No path exists to argue that {my_team} is better than {their_team}.\"\n",
    "\n",
    "# Example of how to call the function\n",
    "find_argument(G_corrected, 'Michigan', 'Ohio State')"
   ]
  },
  {
   "cell_type": "markdown",
   "metadata": {},
   "source": [
    "**Do This**: Test out your `find_argument()` method by running the cell below. The first few lines of the output should look something like this:\n",
    "\n",
    "\n",
    "Michigan State is better than Alabama because ...  \n",
    "Michigan State beat Central Michigan  \n",
    "Central Michigan beat South Alabama  \n",
    "South Alabama beat Oklahoma State  \n",
    "Oklahoma State beat Oklahoma  \n",
    "Oklahoma beat Texas  \n",
    "Texas beat Alabama  \n"
   ]
  },
  {
   "cell_type": "code",
   "execution_count": 40,
   "metadata": {},
   "outputs": [
    {
     "name": "stdout",
     "output_type": "stream",
     "text": [
      "Michigan State is better than Alabama because ...\n",
      "Michigan State beat Central Michigan\n",
      "Central Michigan beat South Alabama\n",
      "South Alabama beat Oklahoma State\n",
      "Oklahoma State beat Oklahoma\n",
      "Oklahoma beat Texas\n",
      "Texas beat Alabama\n",
      "\n",
      "Michigan State is better than Minnesota because ...\n",
      "Michigan State beat Nebraska\n",
      "Nebraska beat Illinois\n",
      "Illinois beat Minnesota\n",
      "\n",
      "Middle Tennessee State is better than Missouri because ...\n",
      "Middle Tennessee State beat Florida International\n",
      "Florida International beat North Texas\n",
      "North Texas beat Tulsa\n",
      "Tulsa beat Northern Illinois\n",
      "Northern Illinois beat Ohio\n",
      "Ohio beat Iowa State\n",
      "Iowa State beat Oklahoma State\n",
      "Oklahoma State beat Oklahoma\n",
      "Oklahoma beat Texas\n",
      "Texas beat Alabama\n",
      "Alabama beat Louisiana State\n",
      "Louisiana State beat Missouri\n",
      "\n",
      "Missouri is better than Middle Tennessee State because ...\n",
      "Missouri beat Middle Tennessee State\n"
     ]
    }
   ],
   "source": [
    "print(\"Michigan State is better than Alabama because ...\")\n",
    "print(\"\\n\".join(find_argument(G_corrected, \"Michigan State\", \"Alabama\")))\n",
    "\n",
    "print(\"\\nMichigan State is better than Minnesota because ...\")\n",
    "print(\"\\n\".join(find_argument(G_corrected, \"Michigan State\", \"Minnesota\")))\n",
    "\n",
    "print(\"\\nMiddle Tennessee State is better than Missouri because ...\")\n",
    "print(\"\\n\".join(find_argument(G_corrected, \"Middle Tennessee State\", \"Missouri\")))\n",
    "\n",
    "print(\"\\nMissouri is better than Middle Tennessee State because ...\")\n",
    "print(\"\\n\".join(find_argument(G_corrected, \"Missouri\", \"Middle Tennessee State\")))"
   ]
  },
  {
   "cell_type": "markdown",
   "metadata": {},
   "source": [
    "&#9989;  **Question 3.6 (5 points):** A graph/network is said to have a \"[community structure](https://en.wikipedia.org/wiki/Community_structure)\" if the nodes can be partitioned into communities such that generally nodes are connected to a high percentage of other nodes in the same community and a low percentage of nodes in other communities. Many real world graphs/networks (particularly those modeling social networks) have a \"community structure\". By taking a graph and detecting which nodes are part of tightly connected communities, we can often gain valuable insights into our graph. \n",
    "\n",
    "\n",
    "Most NCAA Football Bowl Subdivision teams are organized into conferences with 8 to 14 teams per conference. Typically, teams which are part of a conference will play most or all of the other teams in their conference and only a few teams outside their conference. Hence, the graph we generated with all the FBS teams will have this community structure. The pretty graph at the beginning of Part 3 is a good visualization of this structure.\n",
    "\n",
    "Of course, we can easily look up which teams were in which conferences during the 2023 football season. However, let's see how easily we can detect this from the data. The Louvain method is one algorithm for community detection. If you are curious, you can read the Wikipedia article here https://en.wikipedia.org/wiki/Louvain_method, but it is not required."
   ]
  },
  {
   "cell_type": "markdown",
   "metadata": {},
   "source": [
    "**Do This:** First, make an undirected `Graph` that has the same nodes and edges as your `DiGraph` containing all FBS teams. There is a simple `networkx` `DiGraph` method to do this. Next, use the `louvain_communities()` method which is in the `community` subpackage of `networkx` to partition the graph into communities using the Louvain Community Detection Algorithm. The output of this method is a list of sets where each set represents a community. Finally, print the output of this algorithm.\n",
    "\n",
    "You may want to read the documentation for the [`louvain_comminities()`](https://networkx.org/documentation/stable/reference/algorithms/generated/networkx.algorithms.community.louvain.louvain_communities.html) method."
   ]
  },
  {
   "cell_type": "code",
   "execution_count": 41,
   "metadata": {},
   "outputs": [
    {
     "data": {
      "text/plain": [
       "[{'Alabama-Birmingham',\n",
       "  'Charlotte',\n",
       "  'East Carolina',\n",
       "  'Florida Atlantic',\n",
       "  'Memphis',\n",
       "  'Navy',\n",
       "  'North Texas',\n",
       "  'Rice',\n",
       "  'South Florida',\n",
       "  'Southern Methodist',\n",
       "  'Temple',\n",
       "  'Texas-San Antonio',\n",
       "  'Tulane',\n",
       "  'Tulsa'},\n",
       " {'Akron',\n",
       "  'Ball State',\n",
       "  'Bowling Green',\n",
       "  'Buffalo',\n",
       "  'Central Michigan',\n",
       "  'Eastern Michigan',\n",
       "  'Kent State',\n",
       "  'Massachusetts',\n",
       "  'Miami (Ohio)',\n",
       "  'Northern Illinois',\n",
       "  'Ohio',\n",
       "  'Toledo',\n",
       "  'Western Michigan'},\n",
       " {'Air Force',\n",
       "  'Boise State',\n",
       "  'Colorado State',\n",
       "  'Fresno State',\n",
       "  'Hawaii',\n",
       "  'Nevada',\n",
       "  'Nevada-Las Vegas',\n",
       "  'New Mexico',\n",
       "  'San Diego State',\n",
       "  'San Jose State',\n",
       "  'Utah State',\n",
       "  'Wyoming'},\n",
       " {'Arizona',\n",
       "  'Arizona State',\n",
       "  'California',\n",
       "  'Colorado',\n",
       "  'Oregon',\n",
       "  'Oregon State',\n",
       "  'Southern California',\n",
       "  'Stanford',\n",
       "  'UCLA',\n",
       "  'Utah',\n",
       "  'Washington',\n",
       "  'Washington State'},\n",
       " {'Boston College',\n",
       "  'Clemson',\n",
       "  'Connecticut',\n",
       "  'Duke',\n",
       "  'Florida State',\n",
       "  'Georgia Tech',\n",
       "  'Louisville',\n",
       "  'Miami (Florida)',\n",
       "  'North Carolina',\n",
       "  'North Carolina State',\n",
       "  'Notre Dame',\n",
       "  'Pittsburgh',\n",
       "  'Syracuse',\n",
       "  'Virginia',\n",
       "  'Virginia Tech',\n",
       "  'Wake Forest'},\n",
       " {'Alabama',\n",
       "  'Arkansas',\n",
       "  'Auburn',\n",
       "  'Florida',\n",
       "  'Georgia',\n",
       "  'Kentucky',\n",
       "  'Louisiana State',\n",
       "  'Mississippi',\n",
       "  'Mississippi State',\n",
       "  'Missouri',\n",
       "  'South Carolina',\n",
       "  'Tennessee',\n",
       "  'Texas A&M',\n",
       "  'Vanderbilt'},\n",
       " {'Appalachian State',\n",
       "  'Arkansas State',\n",
       "  'Army',\n",
       "  'Coastal Carolina',\n",
       "  'Georgia Southern',\n",
       "  'Georgia State',\n",
       "  'James Madison',\n",
       "  'Louisiana',\n",
       "  'Louisiana-Monroe',\n",
       "  'Marshall',\n",
       "  'Old Dominion',\n",
       "  'South Alabama',\n",
       "  'Southern Mississippi',\n",
       "  'Texas State',\n",
       "  'Troy'},\n",
       " {'Baylor',\n",
       "  'Brigham Young',\n",
       "  'Central Florida',\n",
       "  'Cincinnati',\n",
       "  'Houston',\n",
       "  'Iowa State',\n",
       "  'Kansas',\n",
       "  'Kansas State',\n",
       "  'Oklahoma',\n",
       "  'Oklahoma State',\n",
       "  'Texas',\n",
       "  'Texas Christian',\n",
       "  'Texas Tech',\n",
       "  'West Virginia'},\n",
       " {'Illinois',\n",
       "  'Indiana',\n",
       "  'Iowa',\n",
       "  'Maryland',\n",
       "  'Michigan',\n",
       "  'Michigan State',\n",
       "  'Minnesota',\n",
       "  'Nebraska',\n",
       "  'Northwestern',\n",
       "  'Ohio State',\n",
       "  'Penn State',\n",
       "  'Purdue',\n",
       "  'Rutgers',\n",
       "  'Wisconsin'},\n",
       " {'Florida International',\n",
       "  'Jacksonville State',\n",
       "  'Liberty',\n",
       "  'Louisiana Tech',\n",
       "  'Middle Tennessee State',\n",
       "  'New Mexico State',\n",
       "  'Sam Houston State',\n",
       "  'Texas-El Paso',\n",
       "  'Western Kentucky'}]"
      ]
     },
     "execution_count": 41,
     "metadata": {},
     "output_type": "execute_result"
    }
   ],
   "source": [
    "# Put your code for Question 3.6 here:\n",
    "from networkx.algorithms.community import louvain_communities\n",
    "\n",
    "# Convert the directed graph to an undirected graph\n",
    "undirected_graph = G_corrected.to_undirected()\n",
    "\n",
    "# Use the Louvain Community Detection Algorithm to find communities\n",
    "communities = louvain_communities(undirected_graph)\n",
    "\n",
    "# Print the output of the algorithm\n",
    "communities\n"
   ]
  },
  {
   "cell_type": "markdown",
   "metadata": {},
   "source": [
    "&#9989;  **Question 3.7 (2 points):** What teams were detected to be in the same community as `\"Michigan State\"`? How well does this match up with the teams that are in the Big Ten Conference? Are there any teams included in the same community as `\"Michigan State\"` that are not part of the Big Ten Conference? Are there any teams in the Big Ten Conference that were not included in the same community as `\"Michigan State\"`? (See Question 3.3 if you forgot which teams are in the Big Ten Conference). \n",
    "\n",
    "**Optional:** Those of you who are either sports fans or interested in community detection may want to look at the other communities that were detected and see how those align with the FBS conferences for the 2023 season. "
   ]
  },
  {
   "cell_type": "markdown",
   "metadata": {},
   "source": [
    "<font size=+3>&#9998;</font> There are no teams included in the same community as \"Michigan State\" that are not part of the Big Ten Conference, and there are no teams in the Big Ten Conference that were not included in the same community as \"Michigan State\". The Louvain method did an excellent job of detecting the community structure that aligns with the Big Ten Conference."
   ]
  },
  {
   "cell_type": "markdown",
   "metadata": {},
   "source": [
    "---\n",
    "### &#128721; STOP\n",
    "**Pause to commit your changes to your Git repository!**\n",
    "\n",
    "Take a moment to save your notebook, commit the changes to your Git repository using the commit message \"Committing Part 3\", and push the changes to GitHub.\n",
    "\n",
    "---"
   ]
  },
  {
   "cell_type": "markdown",
   "metadata": {},
   "source": [
    "---\n",
    "## Assignment wrap-up\n",
    "\n",
    "Please fill out the form that appears when you run the code below.  **You must completely fill this out in order to receive credit for the assignment!**"
   ]
  },
  {
   "cell_type": "code",
   "execution_count": 42,
   "metadata": {},
   "outputs": [
    {
     "data": {
      "text/html": [
       "\n",
       "<iframe \n",
       "\tsrc=\"https://forms.office.com/r/aTDe5RGRAK\" \n",
       "\twidth=\"800px\" \n",
       "\theight=\"600px\" \n",
       "\tframeborder=\"0\" \n",
       "\tmarginheight=\"0\" \n",
       "\tmarginwidth=\"0\">\n",
       "\tLoading...\n",
       "</iframe>\n"
      ],
      "text/plain": [
       "<IPython.core.display.HTML object>"
      ]
     },
     "execution_count": 42,
     "metadata": {},
     "output_type": "execute_result"
    }
   ],
   "source": [
    "\n",
    "\n",
    "from IPython.display import HTML\n",
    "HTML(\n",
    "\"\"\"\n",
    "<iframe \n",
    "\tsrc=\"https://forms.office.com/r/aTDe5RGRAK\" \n",
    "\twidth=\"800px\" \n",
    "\theight=\"600px\" \n",
    "\tframeborder=\"0\" \n",
    "\tmarginheight=\"0\" \n",
    "\tmarginwidth=\"0\">\n",
    "\tLoading...\n",
    "</iframe>\n",
    "\"\"\"\n",
    ")"
   ]
  },
  {
   "cell_type": "markdown",
   "metadata": {},
   "source": [
    "### Congratulations, you're done!\n",
    "\n",
    "Submit this assignment by uploading it to the course Desire2Learn web page.  Go to the \"Homework Assignments\" folder, find the dropbox link for Homework #2, and upload **your notebook** there."
   ]
  },
  {
   "cell_type": "markdown",
   "metadata": {},
   "source": [
    "&#169; Copyright 2023,  Department of Computational Mathematics, Science and Engineering at Michigan State University"
   ]
  }
 ],
 "metadata": {
  "anaconda-cloud": {},
  "kernelspec": {
   "display_name": "Python 3.11 (default)",
   "language": "python",
   "name": "python3"
  },
  "language_info": {
   "codemirror_mode": {
    "name": "ipython",
    "version": 3
   },
   "file_extension": ".py",
   "mimetype": "text/x-python",
   "name": "python",
   "nbconvert_exporter": "python",
   "pygments_lexer": "ipython3",
   "version": "3.11.6"
  }
 },
 "nbformat": 4,
 "nbformat_minor": 4
}
